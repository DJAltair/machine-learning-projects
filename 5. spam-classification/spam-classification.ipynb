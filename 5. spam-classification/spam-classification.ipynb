{
 "cells": [
  {
   "cell_type": "markdown",
   "metadata": {},
   "source": [
    "# Spam Classification\n",
    "Authors: [RedSkittleFox](https://github.com/RedSkittleFox), [DJAltair](https://github.com/DJAltair)"
   ]
  },
  {
   "cell_type": "markdown",
   "metadata": {},
   "source": [
    "# Get the Data"
   ]
  },
  {
   "cell_type": "code",
   "execution_count": 1,
   "metadata": {},
   "outputs": [
    {
     "data": {
      "text/html": [
       "<div>\n",
       "<style scoped>\n",
       "    .dataframe tbody tr th:only-of-type {\n",
       "        vertical-align: middle;\n",
       "    }\n",
       "\n",
       "    .dataframe tbody tr th {\n",
       "        vertical-align: top;\n",
       "    }\n",
       "\n",
       "    .dataframe thead th {\n",
       "        text-align: right;\n",
       "    }\n",
       "</style>\n",
       "<table border=\"1\" class=\"dataframe\">\n",
       "  <thead>\n",
       "    <tr style=\"text-align: right;\">\n",
       "      <th></th>\n",
       "      <th>Money</th>\n",
       "      <th>Free</th>\n",
       "      <th>Rich</th>\n",
       "      <th>Inappropriate</th>\n",
       "      <th>Classified</th>\n",
       "      <th>Spam</th>\n",
       "    </tr>\n",
       "  </thead>\n",
       "  <tbody>\n",
       "    <tr>\n",
       "      <th>0</th>\n",
       "      <td>no</td>\n",
       "      <td>no</td>\n",
       "      <td>yes</td>\n",
       "      <td>no</td>\n",
       "      <td>yes</td>\n",
       "      <td>yes</td>\n",
       "    </tr>\n",
       "    <tr>\n",
       "      <th>1</th>\n",
       "      <td>yes</td>\n",
       "      <td>yes</td>\n",
       "      <td>yes</td>\n",
       "      <td>no</td>\n",
       "      <td>no</td>\n",
       "      <td>yes</td>\n",
       "    </tr>\n",
       "    <tr>\n",
       "      <th>2</th>\n",
       "      <td>no</td>\n",
       "      <td>no</td>\n",
       "      <td>no</td>\n",
       "      <td>no</td>\n",
       "      <td>no</td>\n",
       "      <td>no</td>\n",
       "    </tr>\n",
       "    <tr>\n",
       "      <th>3</th>\n",
       "      <td>no</td>\n",
       "      <td>yes</td>\n",
       "      <td>no</td>\n",
       "      <td>no</td>\n",
       "      <td>no</td>\n",
       "      <td>yes</td>\n",
       "    </tr>\n",
       "    <tr>\n",
       "      <th>4</th>\n",
       "      <td>yes</td>\n",
       "      <td>no</td>\n",
       "      <td>no</td>\n",
       "      <td>no</td>\n",
       "      <td>no</td>\n",
       "      <td>no</td>\n",
       "    </tr>\n",
       "  </tbody>\n",
       "</table>\n",
       "</div>"
      ],
      "text/plain": [
       "  Money Free Rich Inappropriate Classified Spam\n",
       "0    no   no  yes            no        yes  yes\n",
       "1   yes  yes  yes            no         no  yes\n",
       "2    no   no   no            no         no   no\n",
       "3    no  yes   no            no         no  yes\n",
       "4   yes   no   no            no         no   no"
      ]
     },
     "execution_count": 1,
     "metadata": {},
     "output_type": "execute_result"
    }
   ],
   "source": [
    "import os\n",
    "import pandas as pd\n",
    "import numpy as np \n",
    "\n",
    "spam_classification : pd.DataFrame = pd.read_csv(os.path.join(\"data\", \"spam_classification.csv\"), sep=\";\")\n",
    "spam_classification.head()"
   ]
  },
  {
   "cell_type": "markdown",
   "metadata": {},
   "source": [
    "# Naive Bayes Classifier\n",
    "Naive Bayes Classifier is a simplification of the more accurate Bayes Classifier. It assumes that all the attributes in the dataset are independent of each other. That assumption allows us to make the following simplification:\n",
    "$$\n",
    "Pr(X | C_i) = Pr(x_1, \\dots, x_k, \\dots, x_n | C_i) = \\prod_{k = 1}^n Pr(x_k | C_i)\n",
    "$$\n",
    "The goal is to solve the following equation\n",
    "$$\n",
    "C^* = \\arg \\max_{C_i : i \\geq 1} (Pr(X|C_i) \\cdot Pr(C_i)) = \\arg \\max_{C_i : i \\geq 1} (Pr(C_i) \\prod_{k = 1}^n Pr(x_k | C_i))\n",
    "$$\n",
    "In the next step we estimate $Pr(C_i)$ and $Pr(x_k | C_i)$ \n",
    "$$\n",
    "Pr(C_i) = \\frac{|C_i|}{|Z|}\n",
    "$$\n",
    "$$\n",
    "Pr(x_k | C_i) = \\frac{|C_i^{x_k}|}{|C_i|}\n",
    "$$\n",
    "Some situations will yield the null probability and thus we need to use the Laplace's smoothing to account for that.\n",
    "$$\n",
    "Pr(C_i) = \\frac{|C_i| + \\lambda }{|Z| + \\lambda \\cdot m} \\quad i = 1, \\dots, m\n",
    "$$\n",
    "$$\n",
    "Pr(x_k | C_i) = \\frac{|C_i^{x_k}| + \\lambda}{|C_i| + \\lambda \\cdot |x_k|} \\quad i = 1, \\dots, n\n",
    "$$"
   ]
  },
  {
   "cell_type": "markdown",
   "metadata": {},
   "source": [
    "## Implementation"
   ]
  },
  {
   "cell_type": "code",
   "execution_count": 2,
   "metadata": {},
   "outputs": [],
   "source": [
    "from sklearn.base import BaseEstimator, ClassifierMixin\n",
    "from sklearn.preprocessing import OneHotEncoder\n",
    "\n",
    "class NaiveBayessClassifier(BaseEstimator, ClassifierMixin):\n",
    "    def __init__(self, laplace_smoothing = False, verbose = True):\n",
    "        self.laplace_smoothing = laplace_smoothing\n",
    "        self.verbose = verbose\n",
    "    def fit(self, X, y):\n",
    "        ohe = OneHotEncoder()\n",
    "        ohe.fit(X)\n",
    "        self.x_categories_ = ohe.categories_.copy()\n",
    "        \n",
    "        ohe = OneHotEncoder()\n",
    "        ohe.fit(pd.DataFrame(y))\n",
    "        self.y_categories = ohe.categories_[0].copy()\n",
    "\n",
    "        og_columns = X.columns.copy()\n",
    "\n",
    "        self.prob_data = {}\n",
    "        self.prob_y = {}\n",
    "\n",
    "        for p in self.y_categories:\n",
    "            count = len(y)\n",
    "            cat_count = 0\n",
    "            for row in y.to_numpy():\n",
    "                if(row == p):\n",
    "                    cat_count = cat_count + 1    \n",
    "\n",
    "            prob = 0.0\n",
    "            if self.laplace_smoothing == False:\n",
    "                prob = float(cat_count) / float(count)\n",
    "            else:\n",
    "                m = len(self.y_categories) \n",
    "                prob = (float(cat_count) + 1.0) / (float(count) + m)\n",
    "\n",
    "            self.prob_y[f\"{p}\"] = prob\n",
    "\n",
    "            self.prob_data[f\"{p}\"] = {}\n",
    "            for c in og_columns:\n",
    "                for cat in self.x_categories_[X.columns.get_loc(c)]:\n",
    "                    count = 0\n",
    "                    cat_count = 0\n",
    "                    for index, row in X.iterrows():\n",
    "                        if(y.to_numpy()[int(index)] != p):\n",
    "                            continue\n",
    "                        count = count + 1\n",
    "                        if(row[c] == cat):\n",
    "                            cat_count += 1\n",
    "\n",
    "                    prob = 0.0\n",
    "                    if self.laplace_smoothing == False:\n",
    "                        prob = float(cat_count) / float(count)\n",
    "                    else:\n",
    "                        m = len(self.x_categories_[X.columns.get_loc(c)])\n",
    "                        prob = (float(cat_count) + 1) / (float(count) + m)\n",
    "\n",
    "                    self.prob_data[f\"{p}\"][f\"{c}={cat}\"] = prob\n",
    "\n",
    "                    None\n",
    "\n",
    "        if self.verbose:\n",
    "            print(self.prob_data)\n",
    "\n",
    "        return self\n",
    "\n",
    "    def predict(self, X):\n",
    "        results = np.array([*range(0, len(X))], dtype=object)\n",
    "        for i, row in X.iterrows():\n",
    "            v = {}\n",
    "            for y_cat in self.y_categories:\n",
    "                v[y_cat] = self.prob_y[f\"{y_cat}\"] \n",
    "                out = f\"{y_cat} : ({y_cat}){v[y_cat]} * \"\n",
    "                for x_label in X.columns:\n",
    "                    d = self.prob_data[f'{y_cat}']\n",
    "                    f = self.prob_data[f\"{y_cat}\"][f\"{x_label}={row[x_label]}\"]\n",
    "                    v[y_cat] = v[y_cat] * f\n",
    "                    out = out + f\" {x_label}({f}) *\"\n",
    "            \n",
    "                out = out[:-1]\n",
    "                out = out + f\"= {v[y_cat]}\"\n",
    "                if self.verbose:\n",
    "                    print(out)\n",
    "            \n",
    "\n",
    "            m = max(v, key=v.get)\n",
    "            results[i] = m\n",
    "            \n",
    "            if self.verbose:\n",
    "                print(f\"max(p) = {m}\")\n",
    "\n",
    "        return results"
   ]
  },
  {
   "cell_type": "markdown",
   "metadata": {},
   "source": [
    "## Training"
   ]
  },
  {
   "cell_type": "code",
   "execution_count": 3,
   "metadata": {},
   "outputs": [
    {
     "name": "stdout",
     "output_type": "stream",
     "text": [
      "{'no': {'Money=no': 0.7142857142857143, 'Money=yes': 0.2857142857142857, 'Free=no': 0.5714285714285714, 'Free=yes': 0.42857142857142855, 'Rich=no': 0.7142857142857143, 'Rich=yes': 0.2857142857142857, 'Inappropriate=no': 0.8571428571428571, 'Inappropriate=yes': 0.14285714285714285, 'Classified=no': 0.7142857142857143, 'Classified=yes': 0.2857142857142857}, 'yes': {'Money=no': 0.6, 'Money=yes': 0.4, 'Free=no': 0.4, 'Free=yes': 0.6, 'Rich=no': 0.6, 'Rich=yes': 0.4, 'Inappropriate=no': 0.6, 'Inappropriate=yes': 0.4, 'Classified=no': 0.5, 'Classified=yes': 0.5}}\n",
      "no : (no)0.4 *  Money(0.7142857142857143) * Free(0.5714285714285714) * Rich(0.7142857142857143) * Inappropriate(0.14285714285714285) * Classified(0.2857142857142857) = 0.004759921461295888\n",
      "yes : (yes)0.6 *  Money(0.6) * Free(0.4) * Rich(0.6) * Inappropriate(0.4) * Classified(0.5) = 0.01728\n",
      "max(p) = yes\n",
      "['yes']\n"
     ]
    }
   ],
   "source": [
    "classifier = NaiveBayessClassifier(laplace_smoothing=True)\n",
    "X = spam_classification[[\"Money\", \"Free\", \"Rich\", \"Inappropriate\", \"Classified\"]]\n",
    "Y = spam_classification[\"Spam\"]\n",
    "classifier.fit(X, Y)\n",
    "\n",
    "pred_x = pd.DataFrame({\n",
    "    \"Money\" : [ \"no\" ],\n",
    "    \"Free\" : [ \"no\" ],\n",
    "    \"Rich\" : [ \"no\" ],\n",
    "    \"Inappropriate\" : [ \"yes\" ],\n",
    "    \"Classified\" : [ \"yes\" ]\n",
    "})\n",
    "results = classifier.predict(pred_x)\n",
    "\n",
    "print(results)"
   ]
  },
  {
   "cell_type": "markdown",
   "metadata": {},
   "source": [
    "| | Money | Free | Rich | Inappropriate | Classified | $Pr(C_i)$ |\n",
    "|---|---|---|---|---|---|---|\n",
    "|Yes|0.6|0.4|0.6|0.4|0.5|0.6|\n",
    "|No|0.71429|0.57143|0.71429|0.14286|0.28571|0.4|"
   ]
  },
  {
   "cell_type": "markdown",
   "metadata": {},
   "source": [
    "## Predictions"
   ]
  },
  {
   "cell_type": "code",
   "execution_count": 4,
   "metadata": {},
   "outputs": [
    {
     "name": "stdout",
     "output_type": "stream",
     "text": [
      "Bayessian score : 0.8461538461538461\n"
     ]
    },
    {
     "data": {
      "image/png": "[encoded data removed]",
      "text/plain": [
       "<Figure size 640x480 with 2 Axes>"
      ]
     },
     "metadata": {},
     "output_type": "display_data"
    }
   ],
   "source": [
    "from sklearn.metrics import accuracy_score\n",
    "from sklearn.metrics import confusion_matrix, ConfusionMatrixDisplay\n",
    "import matplotlib.pyplot as plt\n",
    "\n",
    "kNN = NaiveBayessClassifier(laplace_smoothing=True, verbose = False)\n",
    "kNN.fit(X, Y)\n",
    "\n",
    "Y_pred = kNN.predict(X)\n",
    "score = accuracy_score(Y, Y_pred)\n",
    "\n",
    "print(f\"Bayessian score : {score}\")\n",
    "mat = confusion_matrix(Y, Y_pred)\n",
    "disp = ConfusionMatrixDisplay.from_predictions(\n",
    "    y_true = Y, \n",
    "    y_pred = Y_pred,\n",
    "    cmap=plt.cm.Blues,\n",
    "    labels=kNN.y_categories\n",
    "    )\n",
    "\n",
    "disp.ax_.set_title(f\"Confusion Matrix naiwnego klasywikatora Bayesa\")\n",
    "\n",
    "plt.show()"
   ]
  }
 ],
 "metadata": {
  "kernelspec": {
   "display_name": "Python 3",
   "language": "python",
   "name": "python3"
  },
  "language_info": {
   "codemirror_mode": {
    "name": "ipython",
    "version": 3
   },
   "file_extension": ".py",
   "mimetype": "text/x-python",
   "name": "python",
   "nbconvert_exporter": "python",
   "pygments_lexer": "ipython3",
   "version": "3.10.6"
  }
 },
 "nbformat": 4,
 "nbformat_minor": 2
}
