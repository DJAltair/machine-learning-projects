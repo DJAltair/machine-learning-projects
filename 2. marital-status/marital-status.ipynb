{
 "cells": [
  {
   "cell_type": "markdown",
   "metadata": {},
   "source": [
    "# Marital Status\n",
    "Authors: [RedSkittleFox](https://github.com/RedSkittleFox), [DJAltair](https://github.com/DJAltair)"
   ]
  },
  {
   "cell_type": "markdown",
   "metadata": {},
   "source": [
    "# Get the Data"
   ]
  },
  {
   "cell_type": "markdown",
   "metadata": {},
   "source": [
    "## Load the Data"
   ]
  },
  {
   "cell_type": "code",
   "execution_count": 24,
   "metadata": {},
   "outputs": [
    {
     "data": {
      "text/html": [
       "<div>\n",
       "<style scoped>\n",
       "    .dataframe tbody tr th:only-of-type {\n",
       "        vertical-align: middle;\n",
       "    }\n",
       "\n",
       "    .dataframe tbody tr th {\n",
       "        vertical-align: top;\n",
       "    }\n",
       "\n",
       "    .dataframe thead th {\n",
       "        text-align: right;\n",
       "    }\n",
       "</style>\n",
       "<table border=\"1\" class=\"dataframe\">\n",
       "  <thead>\n",
       "    <tr style=\"text-align: right;\">\n",
       "      <th></th>\n",
       "      <th>Year</th>\n",
       "      <th>Marital status</th>\n",
       "    </tr>\n",
       "  </thead>\n",
       "  <tbody>\n",
       "    <tr>\n",
       "      <th>0</th>\n",
       "      <td>1</td>\n",
       "      <td>S</td>\n",
       "    </tr>\n",
       "    <tr>\n",
       "      <th>1</th>\n",
       "      <td>2</td>\n",
       "      <td>S</td>\n",
       "    </tr>\n",
       "    <tr>\n",
       "      <th>2</th>\n",
       "      <td>5</td>\n",
       "      <td>M</td>\n",
       "    </tr>\n",
       "    <tr>\n",
       "      <th>3</th>\n",
       "      <td>1</td>\n",
       "      <td>S</td>\n",
       "    </tr>\n",
       "    <tr>\n",
       "      <th>4</th>\n",
       "      <td>4</td>\n",
       "      <td>M</td>\n",
       "    </tr>\n",
       "  </tbody>\n",
       "</table>\n",
       "</div>"
      ],
      "text/plain": [
       "   Year Marital status\n",
       "0     1              S\n",
       "1     2              S\n",
       "2     5              M\n",
       "3     1              S\n",
       "4     4              M"
      ]
     },
     "execution_count": 24,
     "metadata": {},
     "output_type": "execute_result"
    }
   ],
   "source": [
    "import os\n",
    "import pandas as pd\n",
    "import numpy as np \n",
    "\n",
    "marital_data : pd.DataFrame = pd.read_csv(os.path.join(\"data\", \"marital_data.csv\"), sep=\",\")\n",
    "marital_data.head()"
   ]
  },
  {
   "cell_type": "markdown",
   "metadata": {},
   "source": [
    "# Prepare the Data\n",
    "\n",
    "We begin the data preparation by converting the categorical data to binary ones and zeros according to `W = 0` and `M = 1` mapping. In the next step we calculate the probability of being in a relationship based on the collage year."
   ]
  },
  {
   "cell_type": "code",
   "execution_count": 25,
   "metadata": {},
   "outputs": [
    {
     "data": {
      "text/html": [
       "<div>\n",
       "<style scoped>\n",
       "    .dataframe tbody tr th:only-of-type {\n",
       "        vertical-align: middle;\n",
       "    }\n",
       "\n",
       "    .dataframe tbody tr th {\n",
       "        vertical-align: top;\n",
       "    }\n",
       "\n",
       "    .dataframe thead th {\n",
       "        text-align: right;\n",
       "    }\n",
       "</style>\n",
       "<table border=\"1\" class=\"dataframe\">\n",
       "  <thead>\n",
       "    <tr style=\"text-align: right;\">\n",
       "      <th></th>\n",
       "      <th>Year</th>\n",
       "      <th>Occurrences</th>\n",
       "      <th>Married</th>\n",
       "      <th>Probability</th>\n",
       "    </tr>\n",
       "  </thead>\n",
       "  <tbody>\n",
       "    <tr>\n",
       "      <th>0</th>\n",
       "      <td>1</td>\n",
       "      <td>6</td>\n",
       "      <td>1</td>\n",
       "      <td>0.166667</td>\n",
       "    </tr>\n",
       "    <tr>\n",
       "      <th>1</th>\n",
       "      <td>2</td>\n",
       "      <td>6</td>\n",
       "      <td>1</td>\n",
       "      <td>0.166667</td>\n",
       "    </tr>\n",
       "    <tr>\n",
       "      <th>2</th>\n",
       "      <td>3</td>\n",
       "      <td>5</td>\n",
       "      <td>3</td>\n",
       "      <td>0.600000</td>\n",
       "    </tr>\n",
       "    <tr>\n",
       "      <th>3</th>\n",
       "      <td>4</td>\n",
       "      <td>5</td>\n",
       "      <td>4</td>\n",
       "      <td>0.800000</td>\n",
       "    </tr>\n",
       "    <tr>\n",
       "      <th>4</th>\n",
       "      <td>5</td>\n",
       "      <td>6</td>\n",
       "      <td>5</td>\n",
       "      <td>0.833333</td>\n",
       "    </tr>\n",
       "  </tbody>\n",
       "</table>\n",
       "</div>"
      ],
      "text/plain": [
       "   Year  Occurrences  Married  Probability\n",
       "0     1            6        1     0.166667\n",
       "1     2            6        1     0.166667\n",
       "2     3            5        3     0.600000\n",
       "3     4            5        4     0.800000\n",
       "4     5            6        5     0.833333"
      ]
     },
     "execution_count": 25,
     "metadata": {},
     "output_type": "execute_result"
    }
   ],
   "source": [
    "# Remap categorical data to binary data.\n",
    "def binary(x):\n",
    "    if x == 'S': return 0\n",
    "    return 1\n",
    "marital_data[\"Marital numeric\"] = marital_data[\"Marital status\"].transform(binary)\n",
    "\n",
    "# Calculate probabilities\n",
    "marital_data = marital_data.groupby(\"Year\")[\"Marital numeric\"].agg([\"count\", \"sum\"]).reset_index()\n",
    "marital_data.columns = [\"Year\", \"Occurrences\", \"Married\"]\n",
    "marital_data['Probability'] = (marital_data[\"Married\"]/marital_data[\"Occurrences\"])\n",
    "marital_data.head()"
   ]
  },
  {
   "cell_type": "markdown",
   "metadata": {},
   "source": [
    "# Linear Regression\n",
    "We start by preparing and evaluating the linear regression model.\n",
    "$$\n",
    "    \\text{Probability}(\\text{Year}) = 0.19667 \\cdot \\text{Year} - 0.07667\n",
    "$$"
   ]
  },
  {
   "cell_type": "code",
   "execution_count": 26,
   "metadata": {},
   "outputs": [
    {
     "name": "stdout",
     "output_type": "stream",
     "text": [
      "Coef = [0.19666667]\n",
      "Intercept = -0.07666666666666666\n"
     ]
    },
    {
     "data": {
      "image/png": "[encoded data removed]",
      "text/plain": [
       "<Figure size 2000x500 with 1 Axes>"
      ]
     },
     "metadata": {},
     "output_type": "display_data"
    }
   ],
   "source": [
    "from sklearn.linear_model import LinearRegression\n",
    "import matplotlib.pyplot as plt\n",
    "\n",
    "X = marital_data[[\"Year\"]].copy()\n",
    "Y = marital_data[\"Probability\"].copy()\n",
    "\n",
    "lin_reg = LinearRegression()\n",
    "lin_reg.fit(X, Y)\n",
    "Y_predicted = lin_reg.predict(X)\n",
    "print(f\"Coef = {lin_reg.coef_}\")\n",
    "print(f\"Intercept = {lin_reg.intercept_}\")\n",
    "\n",
    "#rozmiar kropki\n",
    "plot = marital_data[[\"Year\", \"Probability\"]].plot.scatter(x=\"Year\", y=\"Probability\", figsize=(20, 5), color='b', label=\"Real probability\")\n",
    "plot.plot(X, Y_predicted, color='r', label=\"Regresja liniowa Probability(Year)\")\n",
    "plot.legend()\n",
    "plot;"
   ]
  },
  {
   "cell_type": "markdown",
   "metadata": {},
   "source": [
    "# Logistic Regression\n",
    "Using the probabilities of being in a relationship based on a collage year we calculate the logic -  afunction that converts probability into the logarithm of chance.\n",
    "\n",
    "$$\n",
    "p(\\text{Year}) = \\frac{\\text{number of students in a relationship in the given year}}{\\text{number of observations in the given year}}\n",
    "$$\n",
    "$$\n",
    "\\text{chance} = \\frac{p}{1 - p}\n",
    "$$\n",
    "$$\n",
    "\\text{logit}(p) = \\ln \\text{chance}_p = \\ln \\frac{p}{1 - p}\n",
    "$$\n",
    "\n",
    "In order to use the logit function in the logistic regression we equate it to the linear function equation.\n",
    "$$\n",
    "\\text{logit}(p(\\text{Year})) = \\ln \\frac{p}{1 - p} = \\alpha_0 + \\alpha_1 \\cdot \\text{Year}\n",
    "$$"
   ]
  },
  {
   "cell_type": "code",
   "execution_count": 27,
   "metadata": {},
   "outputs": [
    {
     "name": "stdout",
     "output_type": "stream",
     "text": [
      "Coef = [0.94334839]\n",
      "Intercept = -2.7935808656283285\n"
     ]
    }
   ],
   "source": [
    "# Compute logit\n",
    "logit_data = marital_data\n",
    "logit_data['Logit'] = np.log(logit_data[\"Probability\"] / (1 - logit_data[\"Probability\"]))\n",
    "\n",
    "X = logit_data[[\"Year\"]].copy()\n",
    "Y = logit_data[\"Logit\"]\n",
    "\n",
    "logit_reg = LinearRegression()\n",
    "logit_reg.fit(X,Y)\n",
    "logit_coef = logit_reg.coef_\n",
    "logit_intercept = logit_reg.intercept_\n",
    "print(f\"Coef = {logit_coef}\")\n",
    "print(f\"Intercept = {logit_intercept}\")\n"
   ]
  },
  {
   "cell_type": "markdown",
   "metadata": {},
   "source": [
    "$$\n",
    "\\text{logit}(p(\\text{Year})) = -2.79358 + 0.94335 \\cdot \\text{Year}\n",
    "$$\n",
    "$$\n",
    "p(\\text{Year}) = \\frac{1}{1 + \\exp(-\\text{logit}(p(\\text{Year}))) } = \\frac{1}{1 + \\exp(2.79358 - 0.94335 \\cdot \\text{Year})}\n",
    "$$"
   ]
  },
  {
   "cell_type": "code",
   "execution_count": 28,
   "metadata": {},
   "outputs": [
    {
     "data": {
      "text/html": [
       "<div>\n",
       "<style scoped>\n",
       "    .dataframe tbody tr th:only-of-type {\n",
       "        vertical-align: middle;\n",
       "    }\n",
       "\n",
       "    .dataframe tbody tr th {\n",
       "        vertical-align: top;\n",
       "    }\n",
       "\n",
       "    .dataframe thead th {\n",
       "        text-align: right;\n",
       "    }\n",
       "</style>\n",
       "<table border=\"1\" class=\"dataframe\">\n",
       "  <thead>\n",
       "    <tr style=\"text-align: right;\">\n",
       "      <th></th>\n",
       "      <th>Year</th>\n",
       "    </tr>\n",
       "  </thead>\n",
       "  <tbody>\n",
       "    <tr>\n",
       "      <th>0</th>\n",
       "      <td>0.135846</td>\n",
       "    </tr>\n",
       "    <tr>\n",
       "      <th>1</th>\n",
       "      <td>0.287638</td>\n",
       "    </tr>\n",
       "    <tr>\n",
       "      <th>2</th>\n",
       "      <td>0.509115</td>\n",
       "    </tr>\n",
       "    <tr>\n",
       "      <th>3</th>\n",
       "      <td>0.727071</td>\n",
       "    </tr>\n",
       "    <tr>\n",
       "      <th>4</th>\n",
       "      <td>0.872491</td>\n",
       "    </tr>\n",
       "  </tbody>\n",
       "</table>\n",
       "</div>"
      ],
      "text/plain": [
       "       Year\n",
       "0  0.135846\n",
       "1  0.287638\n",
       "2  0.509115\n",
       "3  0.727071\n",
       "4  0.872491"
      ]
     },
     "execution_count": 28,
     "metadata": {},
     "output_type": "execute_result"
    }
   ],
   "source": [
    "# Prediction function\n",
    "def predict(X_):\n",
    "    return 1 / (1 + np.exp(-(logit_intercept + logit_coef * X_)))\n",
    "\n",
    "Y = predict(X)\n",
    "Y"
   ]
  },
  {
   "cell_type": "markdown",
   "metadata": {},
   "source": [
    "# Visualization"
   ]
  },
  {
   "cell_type": "code",
   "execution_count": 29,
   "metadata": {},
   "outputs": [
    {
     "data": {
      "image/png": "[encoded data removed]",
      "text/plain": [
       "<Figure size 640x480 with 1 Axes>"
      ]
     },
     "metadata": {},
     "output_type": "display_data"
    }
   ],
   "source": [
    "import matplotlib.pyplot as plt\n",
    "X_data = np.linspace(0, 6)\n",
    "Y_data = predict(X_data)\n",
    "\n",
    "X_linear_data = pd.DataFrame({\"Year\" : X_data})\n",
    "Y_linear_data = lin_reg.predict(X_linear_data)\n",
    "\n",
    "plt.plot(X_data, Y_data, color=\"g\", label=\"Regresja logistyczna Probability(Year)\")\n",
    "plt.plot(X_linear_data, Y_linear_data, color='r', label=\"Regresja liniowa Probability(Year)\")\n",
    "plt.scatter(logit_data['Year'], logit_data['Probability'], color='b', label=\"Real probability\")\n",
    "plt.legend()\n",
    "plt.show()"
   ]
  },
  {
   "cell_type": "code",
   "execution_count": 30,
   "metadata": {},
   "outputs": [
    {
     "name": "stdout",
     "output_type": "stream",
     "text": [
      "Linear : R2 = 0.894398766700925 : RMSE = 0.09556847457887636\n",
      "Logit : R2 = 0.9290175671683631 : RMSE = 0.07835299449439352\n"
     ]
    }
   ],
   "source": [
    "from sklearn.metrics import r2_score\n",
    "from sklearn.metrics import mean_squared_error\n",
    "\n",
    "Y_data = logit_data['Probability']\n",
    "Y_linear_data = lin_reg.predict(logit_data[[\"Year\"]])\n",
    "Y_logit_data = predict(logit_data[\"Year\"])\n",
    "\n",
    "R2_score_linear = r2_score(Y_data, Y_linear_data)\n",
    "RMSE_linear = np.sqrt(mean_squared_error(Y_data, Y_linear_data))\n",
    "\n",
    "R2_score_logit = r2_score(Y_data, Y_logit_data)\n",
    "RMSE_logit = np.sqrt(mean_squared_error(Y_data, Y_logit_data))\n",
    "\n",
    "print(f\"Linear : R2 = {R2_score_linear} : RMSE = {RMSE_linear}\")\n",
    "print(f\"Logit : R2 = {R2_score_logit} : RMSE = {RMSE_logit}\")"
   ]
  },
  {
   "cell_type": "markdown",
   "metadata": {},
   "source": [
    "Both models predict the probability of a marital status based on the year. Linear model however fails to predict the probability for the years outside of the training range. The logistic model, which is based on the logit function, yields more accurate predictions. Despite both models showing similar R2 and RMSE metrics the logistic models were more closely fitted to the data and more closely resembled the analyzed topic. "
   ]
  }
 ],
 "metadata": {
  "kernelspec": {
   "display_name": "Python 3",
   "language": "python",
   "name": "python3"
  },
  "language_info": {
   "codemirror_mode": {
    "name": "ipython",
    "version": 3
   },
   "file_extension": ".py",
   "mimetype": "text/x-python",
   "name": "python",
   "nbconvert_exporter": "python",
   "pygments_lexer": "ipython3",
   "version": "3.10.6"
  }
 },
 "nbformat": 4,
 "nbformat_minor": 2
}
